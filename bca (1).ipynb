{
 "cells": [
  {
   "cell_type": "markdown",
   "id": "c97f3bb5-65a4-4cba-a38e-524f4a245dad",
   "metadata": {},
   "source": [
    "### Create BCA.txt. Write 5 lines directly and 5 lines must be taken from user. Print the smallest and largest word in this file."
   ]
  },
  {
   "cell_type": "code",
   "execution_count": 10,
   "id": "e58b4287-f44b-4a0e-b631-71e2ae94b8f9",
   "metadata": {},
   "outputs": [],
   "source": [
    "f=open(\"C:/23bca280/python/BCA.txt\",\"w\")"
   ]
  },
  {
   "cell_type": "code",
   "execution_count": 11,
   "id": "229d1ead-7bf4-4e75-96ae-7d8ba808a0b1",
   "metadata": {},
   "outputs": [
    {
     "data": {
      "text/plain": [
       "32"
      ]
     },
     "execution_count": 11,
     "metadata": {},
     "output_type": "execute_result"
    }
   ],
   "source": [
    "f.write(\"pytho is very easy to understand\")"
   ]
  },
  {
   "cell_type": "code",
   "execution_count": 12,
   "id": "3dbe3065-0904-4157-8593-13132f176b92",
   "metadata": {},
   "outputs": [
    {
     "data": {
      "text/plain": [
       "42"
      ]
     },
     "execution_count": 12,
     "metadata": {},
     "output_type": "execute_result"
    }
   ],
   "source": [
    "f.write(\"python is very usefull for devloping games\")"
   ]
  },
  {
   "cell_type": "code",
   "execution_count": 13,
   "id": "a8422162-fc8f-42f6-bdbc-518c7ca20fc0",
   "metadata": {},
   "outputs": [
    {
     "data": {
      "text/plain": [
       "45"
      ]
     },
     "execution_count": 13,
     "metadata": {},
     "output_type": "execute_result"
    }
   ],
   "source": [
    "f.write(\"python is opensorce which is freely available\")"
   ]
  },
  {
   "cell_type": "code",
   "execution_count": 14,
   "id": "94da6b9f-a799-4483-b704-c649adc58f07",
   "metadata": {},
   "outputs": [
    {
     "data": {
      "text/plain": [
       "60"
      ]
     },
     "execution_count": 14,
     "metadata": {},
     "output_type": "execute_result"
    }
   ],
   "source": [
    "f.write(\"Python is commonly used for developing websites and software\")"
   ]
  },
  {
   "cell_type": "code",
   "execution_count": 15,
   "id": "d105c5bc-e228-4f8a-83b5-126f8bff9563",
   "metadata": {},
   "outputs": [
    {
     "data": {
      "text/plain": [
       "56"
      ]
     },
     "execution_count": 15,
     "metadata": {},
     "output_type": "execute_result"
    }
   ],
   "source": [
    "f.write(\"High-level: human-friendly rather than computer-friendly\")"
   ]
  },
  {
   "cell_type": "code",
   "execution_count": 17,
   "id": "d4b7fa77-ac58-4a98-bb6a-d49213aadce5",
   "metadata": {},
   "outputs": [],
   "source": [
    "f=open(\"C:/23bca280/python/BCA.txt\",\"a\")"
   ]
  },
  {
   "cell_type": "code",
   "execution_count": 19,
   "id": "5fd39b4b-1967-432b-9d08-19bf6d355f2e",
   "metadata": {},
   "outputs": [
    {
     "name": "stdin",
     "output_type": "stream",
     "text": [
      "enter any value python support cross plateform devlopment\n",
      "enter any value python can be easyly interpreted by c/c++\n",
      "enter any value we can store it with .py extension\n",
      "enter any value python is dynamic type \n",
      "enter any value it is easy to understand for every one\n"
     ]
    }
   ],
   "source": [
    "for i in range(5):\n",
    "    user_input=input(\"enter any string\")\n"
   ]
  },
  {
   "cell_type": "code",
   "execution_count": 20,
   "id": "3cb5bd4d-7973-40a1-b933-a2c7f1c43dfb",
   "metadata": {},
   "outputs": [],
   "source": [
    "f=open(\"C:/23bca280/python/BCA.txt\",\"r\")"
   ]
  },
  {
   "cell_type": "code",
   "execution_count": 21,
   "id": "8ab35edd-9594-41f5-878f-1a59f0da2a57",
   "metadata": {},
   "outputs": [],
   "source": [
    "word=f.read().split()\n"
   ]
  },
  {
   "cell_type": "code",
   "execution_count": 22,
   "id": "08164985-4ed9-4d2f-8d09-37e3915144c4",
   "metadata": {},
   "outputs": [],
   "source": [
    "s_word=min(word)\n",
    "s_word1=max(word)"
   ]
  },
  {
   "cell_type": "code",
   "execution_count": 23,
   "id": "50849e2c-6d9b-4c72-82d6-0ac07963c174",
   "metadata": {},
   "outputs": [
    {
     "name": "stdout",
     "output_type": "stream",
     "text": [
      "and\n"
     ]
    }
   ],
   "source": [
    "print(s_word)"
   ]
  },
  {
   "cell_type": "code",
   "execution_count": 24,
   "id": "c286274f-3d06-48cf-a377-5b950b948462",
   "metadata": {},
   "outputs": [
    {
     "name": "stdout",
     "output_type": "stream",
     "text": [
      "which\n"
     ]
    }
   ],
   "source": [
    "print(s_word1)"
   ]
  },
  {
   "cell_type": "code",
   "execution_count": 30,
   "id": "b663b961-56e0-4e1e-a4db-83ee50e498f1",
   "metadata": {},
   "outputs": [],
   "source": [
    "f.close()\n"
   ]
  },
  {
   "cell_type": "code",
   "execution_count": null,
   "id": "b74d9a48-19e2-4b31-bd17-23960271abcc",
   "metadata": {},
   "outputs": [],
   "source": []
  },
  {
   "cell_type": "code",
   "execution_count": null,
   "id": "fda6f07b-2c09-47c2-ae12-df4905fc8aad",
   "metadata": {},
   "outputs": [],
   "source": []
  },
  {
   "cell_type": "code",
   "execution_count": null,
   "id": "563a85d0-a73c-47b3-9596-04e76d767419",
   "metadata": {},
   "outputs": [],
   "source": []
  },
  {
   "cell_type": "code",
   "execution_count": null,
   "id": "765eecf1-46ee-47de-a532-4b1f02d41df3",
   "metadata": {},
   "outputs": [],
   "source": []
  },
  {
   "cell_type": "code",
   "execution_count": null,
   "id": "e33d6109-3c2d-4a92-b79c-d4ba9a95fb9d",
   "metadata": {},
   "outputs": [],
   "source": []
  }
 ],
 "metadata": {
  "kernelspec": {
   "display_name": "Python 3 (ipykernel)",
   "language": "python",
   "name": "python3"
  },
  "language_info": {
   "codemirror_mode": {
    "name": "ipython",
    "version": 3
   },
   "file_extension": ".py",
   "mimetype": "text/x-python",
   "name": "python",
   "nbconvert_exporter": "python",
   "pygments_lexer": "ipython3",
   "version": "3.12.4"
  }
 },
 "nbformat": 4,
 "nbformat_minor": 5
}
